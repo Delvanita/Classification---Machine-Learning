{
 "cells": [
  {
   "cell_type": "code",
   "execution_count": null,
   "metadata": {
    "id": "7zx4B60e0dBP"
   },
   "outputs": [],
   "source": [
    "import warnings\n",
    "warnings.simplefilter(action='ignore', category=FutureWarning)"
   ]
  },
  {
   "cell_type": "code",
   "execution_count": null,
   "metadata": {
    "id": "0cBeQUZruytl"
   },
   "outputs": [],
   "source": [
    "import pandas as pd\n",
    "import numpy as np\n",
    "import seaborn as sns\n",
    "import matplotlib.pyplot as plt\n",
    "from sklearn.preprocessing import LabelEncoder, MinMaxScaler, StandardScaler, RobustScaler\n",
    "sns.set(rc={\"figure.figsize\":(15, 12)})\n",
    "\n",
    "url_train = 'https://raw.githubusercontent.com/ghinakh/dataset/main/salju_train.csv'\n",
    "url_test = 'https://raw.githubusercontent.com/ghinakh/dataset/main/salju_test.csv'\n",
    "df_train = pd.read_csv(url_train)\n",
    "df_test = pd.read_csv(url_test)"
   ]
  },
  {
   "cell_type": "code",
   "execution_count": null,
   "metadata": {
    "id": "9qoRBpGuu5sN"
   },
   "outputs": [],
   "source": [
    "del df_train['id']\n",
    "df_train['Tanggal']= pd.to_datetime(df_train['Tanggal'])\n",
    "df_test['Tanggal']= pd.to_datetime(df_test['Tanggal'])"
   ]
  },
  {
   "cell_type": "code",
   "execution_count": null,
   "metadata": {
    "colab": {
     "base_uri": "https://localhost:8080/",
     "height": 293
    },
    "id": "Ak4VhWSru6l8",
    "outputId": "090c927f-50c8-4aac-d807-9b34044ee425"
   },
   "outputs": [
    {
     "data": {
      "text/html": [
       "<div>\n",
       "<style scoped>\n",
       "    .dataframe tbody tr th:only-of-type {\n",
       "        vertical-align: middle;\n",
       "    }\n",
       "\n",
       "    .dataframe tbody tr th {\n",
       "        vertical-align: top;\n",
       "    }\n",
       "\n",
       "    .dataframe thead th {\n",
       "        text-align: right;\n",
       "    }\n",
       "</style>\n",
       "<table border=\"1\" class=\"dataframe\">\n",
       "  <thead>\n",
       "    <tr style=\"text-align: right;\">\n",
       "      <th></th>\n",
       "      <th>Tanggal</th>\n",
       "      <th>KodeLokasi</th>\n",
       "      <th>SuhuMin</th>\n",
       "      <th>SuhuMax</th>\n",
       "      <th>Hujan</th>\n",
       "      <th>Penguapan</th>\n",
       "      <th>SinarMatahari</th>\n",
       "      <th>ArahAnginTerkencang</th>\n",
       "      <th>KecepatanAnginTerkencang</th>\n",
       "      <th>ArahAngin9am</th>\n",
       "      <th>ArahAngin3pm</th>\n",
       "      <th>KecepatanAngin9am</th>\n",
       "      <th>KecepatanAngin3pm</th>\n",
       "      <th>Kelembaban9am</th>\n",
       "      <th>Kelembaban3pm</th>\n",
       "      <th>Tekanan9am</th>\n",
       "      <th>Tekanan3pm</th>\n",
       "      <th>Awan9am</th>\n",
       "      <th>Awan3pm</th>\n",
       "      <th>Suhu9am</th>\n",
       "      <th>Suhu3pm</th>\n",
       "      <th>BersaljuHariIni</th>\n",
       "      <th>BersaljuBesok</th>\n",
       "    </tr>\n",
       "  </thead>\n",
       "  <tbody>\n",
       "    <tr>\n",
       "      <th>0</th>\n",
       "      <td>2014-01-06</td>\n",
       "      <td>C4</td>\n",
       "      <td>10.4</td>\n",
       "      <td>15.5</td>\n",
       "      <td>4.8</td>\n",
       "      <td>NaN</td>\n",
       "      <td>NaN</td>\n",
       "      <td>WSW</td>\n",
       "      <td>24.0</td>\n",
       "      <td>NaN</td>\n",
       "      <td>WSW</td>\n",
       "      <td>0.0</td>\n",
       "      <td>13.0</td>\n",
       "      <td>78.0</td>\n",
       "      <td>76.0</td>\n",
       "      <td>1020.1</td>\n",
       "      <td>1018.5</td>\n",
       "      <td>NaN</td>\n",
       "      <td>NaN</td>\n",
       "      <td>13.1</td>\n",
       "      <td>15.0</td>\n",
       "      <td>Ya</td>\n",
       "      <td>Tidak</td>\n",
       "    </tr>\n",
       "    <tr>\n",
       "      <th>1</th>\n",
       "      <td>2014-07-15</td>\n",
       "      <td>C10</td>\n",
       "      <td>9.0</td>\n",
       "      <td>17.0</td>\n",
       "      <td>8.0</td>\n",
       "      <td>2.6</td>\n",
       "      <td>7.4</td>\n",
       "      <td>NaN</td>\n",
       "      <td>NaN</td>\n",
       "      <td>SW</td>\n",
       "      <td>WNW</td>\n",
       "      <td>13.0</td>\n",
       "      <td>20.0</td>\n",
       "      <td>80.0</td>\n",
       "      <td>61.0</td>\n",
       "      <td>1015.2</td>\n",
       "      <td>1014.6</td>\n",
       "      <td>7.0</td>\n",
       "      <td>5.0</td>\n",
       "      <td>11.9</td>\n",
       "      <td>15.5</td>\n",
       "      <td>Ya</td>\n",
       "      <td>Ya</td>\n",
       "    </tr>\n",
       "  </tbody>\n",
       "</table>\n",
       "</div>"
      ],
      "text/plain": [
       "     Tanggal KodeLokasi  SuhuMin  ...  Suhu3pm  BersaljuHariIni  BersaljuBesok\n",
       "0 2014-01-06         C4     10.4  ...     15.0               Ya          Tidak\n",
       "1 2014-07-15        C10      9.0  ...     15.5               Ya             Ya\n",
       "\n",
       "[2 rows x 23 columns]"
      ]
     },
     "metadata": {
      "tags": []
     },
     "output_type": "display_data"
    },
    {
     "data": {
      "text/html": [
       "<div>\n",
       "<style scoped>\n",
       "    .dataframe tbody tr th:only-of-type {\n",
       "        vertical-align: middle;\n",
       "    }\n",
       "\n",
       "    .dataframe tbody tr th {\n",
       "        vertical-align: top;\n",
       "    }\n",
       "\n",
       "    .dataframe thead th {\n",
       "        text-align: right;\n",
       "    }\n",
       "</style>\n",
       "<table border=\"1\" class=\"dataframe\">\n",
       "  <thead>\n",
       "    <tr style=\"text-align: right;\">\n",
       "      <th></th>\n",
       "      <th>Tanggal</th>\n",
       "      <th>KodeLokasi</th>\n",
       "      <th>SuhuMin</th>\n",
       "      <th>SuhuMax</th>\n",
       "      <th>Hujan</th>\n",
       "      <th>Penguapan</th>\n",
       "      <th>SinarMatahari</th>\n",
       "      <th>ArahAnginTerkencang</th>\n",
       "      <th>KecepatanAnginTerkencang</th>\n",
       "      <th>ArahAngin9am</th>\n",
       "      <th>ArahAngin3pm</th>\n",
       "      <th>KecepatanAngin9am</th>\n",
       "      <th>KecepatanAngin3pm</th>\n",
       "      <th>Kelembaban9am</th>\n",
       "      <th>Kelembaban3pm</th>\n",
       "      <th>Tekanan9am</th>\n",
       "      <th>Tekanan3pm</th>\n",
       "      <th>Awan9am</th>\n",
       "      <th>Awan3pm</th>\n",
       "      <th>Suhu9am</th>\n",
       "      <th>Suhu3pm</th>\n",
       "      <th>BersaljuHariIni</th>\n",
       "      <th>BersaljuBesok</th>\n",
       "    </tr>\n",
       "  </thead>\n",
       "  <tbody>\n",
       "    <tr>\n",
       "      <th>0</th>\n",
       "      <td>2010-04-11</td>\n",
       "      <td>C39</td>\n",
       "      <td>11.0</td>\n",
       "      <td>27.5</td>\n",
       "      <td>0.0</td>\n",
       "      <td>NaN</td>\n",
       "      <td>6.4</td>\n",
       "      <td>WSW</td>\n",
       "      <td>46.0</td>\n",
       "      <td>W</td>\n",
       "      <td>W</td>\n",
       "      <td>20.0</td>\n",
       "      <td>28.0</td>\n",
       "      <td>39.0</td>\n",
       "      <td>56.0</td>\n",
       "      <td>1013.0</td>\n",
       "      <td>1012.4</td>\n",
       "      <td>4.0</td>\n",
       "      <td>7.0</td>\n",
       "      <td>25.7</td>\n",
       "      <td>23.6</td>\n",
       "      <td>No</td>\n",
       "      <td>No</td>\n",
       "    </tr>\n",
       "    <tr>\n",
       "      <th>1</th>\n",
       "      <td>2015-03-26</td>\n",
       "      <td>C35</td>\n",
       "      <td>10.0</td>\n",
       "      <td>19.9</td>\n",
       "      <td>0.2</td>\n",
       "      <td>NaN</td>\n",
       "      <td>NaN</td>\n",
       "      <td>WNW</td>\n",
       "      <td>56.0</td>\n",
       "      <td>W</td>\n",
       "      <td>NW</td>\n",
       "      <td>24.0</td>\n",
       "      <td>33.0</td>\n",
       "      <td>76.0</td>\n",
       "      <td>32.0</td>\n",
       "      <td>1017.0</td>\n",
       "      <td>1015.2</td>\n",
       "      <td>8.0</td>\n",
       "      <td>1.0</td>\n",
       "      <td>10.7</td>\n",
       "      <td>18.9</td>\n",
       "      <td>No</td>\n",
       "      <td>Yes</td>\n",
       "    </tr>\n",
       "  </tbody>\n",
       "</table>\n",
       "</div>"
      ],
      "text/plain": [
       "     Tanggal KodeLokasi  SuhuMin  ...  Suhu3pm  BersaljuHariIni  BersaljuBesok\n",
       "0 2010-04-11        C39     11.0  ...     23.6               No             No\n",
       "1 2015-03-26        C35     10.0  ...     18.9               No            Yes\n",
       "\n",
       "[2 rows x 23 columns]"
      ]
     },
     "metadata": {
      "tags": []
     },
     "output_type": "display_data"
    }
   ],
   "source": [
    "display(df_train.head(2))\n",
    "display(df_test.head(2))"
   ]
  },
  {
   "cell_type": "code",
   "execution_count": null,
   "metadata": {
    "colab": {
     "base_uri": "https://localhost:8080/"
    },
    "id": "2rt2ab9_u86k",
    "outputId": "28b9748c-d33d-4e98-eecc-1756162f6444"
   },
   "outputs": [
    {
     "name": "stdout",
     "output_type": "stream",
     "text": [
      "TRAINING : (109095, 23)\n",
      "TESTING : (18182, 23)\n"
     ]
    }
   ],
   "source": [
    "print('TRAINING :',df_train.shape)\n",
    "print('TESTING :',df_test.shape)"
   ]
  },
  {
   "cell_type": "code",
   "execution_count": null,
   "metadata": {
    "colab": {
     "base_uri": "https://localhost:8080/"
    },
    "id": "2dqDKDnmvAUP",
    "outputId": "0d1f29df-9756-4ecb-c19b-b8dce0146e21"
   },
   "outputs": [
    {
     "name": "stdout",
     "output_type": "stream",
     "text": [
      "TRAIN DATAFRAME\n",
      "<class 'pandas.core.frame.DataFrame'>\n",
      "RangeIndex: 109095 entries, 0 to 109094\n",
      "Data columns (total 23 columns):\n",
      " #   Column                    Non-Null Count   Dtype         \n",
      "---  ------                    --------------   -----         \n",
      " 0   Tanggal                   109095 non-null  datetime64[ns]\n",
      " 1   KodeLokasi                109095 non-null  object        \n",
      " 2   SuhuMin                   107973 non-null  float64       \n",
      " 3   SuhuMax                   108166 non-null  float64       \n",
      " 4   Hujan                     106664 non-null  float64       \n",
      " 5   Penguapan                 62071 non-null   float64       \n",
      " 6   SinarMatahari             56716 non-null   float64       \n",
      " 7   ArahAnginTerkencang       101351 non-null  object        \n",
      " 8   KecepatanAnginTerkencang  101399 non-null  float64       \n",
      " 9   ArahAngin9am              101172 non-null  object        \n",
      " 10  ArahAngin3pm              105898 non-null  object        \n",
      " 11  KecepatanAngin9am         107742 non-null  float64       \n",
      " 12  KecepatanAngin3pm         106792 non-null  float64       \n",
      " 13  Kelembaban9am             107093 non-null  float64       \n",
      " 14  Kelembaban3pm             105721 non-null  float64       \n",
      " 15  Tekanan9am                97768 non-null   float64       \n",
      " 16  Tekanan3pm                97787 non-null   float64       \n",
      " 17  Awan9am                   67251 non-null   float64       \n",
      " 18  Awan3pm                   64624 non-null   float64       \n",
      " 19  Suhu9am                   107755 non-null  float64       \n",
      " 20  Suhu3pm                   106397 non-null  float64       \n",
      " 21  BersaljuHariIni           106664 non-null  object        \n",
      " 22  BersaljuBesok             106664 non-null  object        \n",
      "dtypes: datetime64[ns](1), float64(16), object(6)\n",
      "memory usage: 19.1+ MB\n",
      "\n",
      "TEST DATAFRAME\n",
      "<class 'pandas.core.frame.DataFrame'>\n",
      "RangeIndex: 18182 entries, 0 to 18181\n",
      "Data columns (total 23 columns):\n",
      " #   Column                    Non-Null Count  Dtype         \n",
      "---  ------                    --------------  -----         \n",
      " 0   Tanggal                   18182 non-null  datetime64[ns]\n",
      " 1   KodeLokasi                18182 non-null  object        \n",
      " 2   SuhuMin                   18017 non-null  float64       \n",
      " 3   SuhuMax                   18017 non-null  float64       \n",
      " 4   Hujan                     17795 non-null  float64       \n",
      " 5   Penguapan                 10326 non-null  float64       \n",
      " 6   SinarMatahari             9464 non-null   float64       \n",
      " 7   ArahAnginTerkencang       16901 non-null  object        \n",
      " 8   KecepatanAnginTerkencang  16908 non-null  float64       \n",
      " 9   ArahAngin9am              16874 non-null  object        \n",
      " 10  ArahAngin3pm              17686 non-null  object        \n",
      " 11  KecepatanAngin9am         17984 non-null  float64       \n",
      " 12  KecepatanAngin3pm         17828 non-null  float64       \n",
      " 13  Kelembaban9am             17852 non-null  float64       \n",
      " 14  Kelembaban3pm             17634 non-null  float64       \n",
      " 15  Tekanan9am                16317 non-null  float64       \n",
      " 16  Tekanan3pm                16329 non-null  float64       \n",
      " 17  Awan9am                   11140 non-null  float64       \n",
      " 18  Awan3pm                   10726 non-null  float64       \n",
      " 19  Suhu9am                   17963 non-null  float64       \n",
      " 20  Suhu3pm                   17740 non-null  float64       \n",
      " 21  BersaljuHariIni           17795 non-null  object        \n",
      " 22  BersaljuBesok             17763 non-null  object        \n",
      "dtypes: datetime64[ns](1), float64(16), object(6)\n",
      "memory usage: 3.2+ MB\n"
     ]
    }
   ],
   "source": [
    "print(\"TRAIN DATAFRAME\")\n",
    "df_train.info()\n",
    "print(\"\\nTEST DATAFRAME\")\n",
    "df_test.info()"
   ]
  },
  {
   "cell_type": "code",
   "execution_count": null,
   "metadata": {
    "colab": {
     "base_uri": "https://localhost:8080/",
     "height": 633
    },
    "id": "BuGCWR-0vBEs",
    "outputId": "0cf8eb40-1b1b-404e-f2cf-63054630510c"
   },
   "outputs": [
    {
     "data": {
      "application/vnd.google.colaboratory.intrinsic+json": {
       "type": "string"
      },
      "text/plain": [
       "'TRAIN DATAFRAME'"
      ]
     },
     "metadata": {
      "tags": []
     },
     "output_type": "display_data"
    },
    {
     "data": {
      "text/html": [
       "<div>\n",
       "<style scoped>\n",
       "    .dataframe tbody tr th:only-of-type {\n",
       "        vertical-align: middle;\n",
       "    }\n",
       "\n",
       "    .dataframe tbody tr th {\n",
       "        vertical-align: top;\n",
       "    }\n",
       "\n",
       "    .dataframe thead th {\n",
       "        text-align: right;\n",
       "    }\n",
       "</style>\n",
       "<table border=\"1\" class=\"dataframe\">\n",
       "  <thead>\n",
       "    <tr style=\"text-align: right;\">\n",
       "      <th></th>\n",
       "      <th>SuhuMin</th>\n",
       "      <th>SuhuMax</th>\n",
       "      <th>Hujan</th>\n",
       "      <th>Penguapan</th>\n",
       "      <th>SinarMatahari</th>\n",
       "      <th>KecepatanAnginTerkencang</th>\n",
       "      <th>KecepatanAngin9am</th>\n",
       "      <th>KecepatanAngin3pm</th>\n",
       "      <th>Kelembaban9am</th>\n",
       "      <th>Kelembaban3pm</th>\n",
       "      <th>Tekanan9am</th>\n",
       "      <th>Tekanan3pm</th>\n",
       "      <th>Awan9am</th>\n",
       "      <th>Awan3pm</th>\n",
       "      <th>Suhu9am</th>\n",
       "      <th>Suhu3pm</th>\n",
       "    </tr>\n",
       "  </thead>\n",
       "  <tbody>\n",
       "    <tr>\n",
       "      <th>count</th>\n",
       "      <td>107973.000000</td>\n",
       "      <td>108166.000000</td>\n",
       "      <td>106664.000000</td>\n",
       "      <td>62071.000000</td>\n",
       "      <td>56716.000000</td>\n",
       "      <td>101399.000000</td>\n",
       "      <td>107742.000000</td>\n",
       "      <td>106792.000000</td>\n",
       "      <td>107093.000000</td>\n",
       "      <td>105721.000000</td>\n",
       "      <td>97768.000000</td>\n",
       "      <td>97787.000000</td>\n",
       "      <td>67251.000000</td>\n",
       "      <td>64624.000000</td>\n",
       "      <td>107755.000000</td>\n",
       "      <td>106397.000000</td>\n",
       "    </tr>\n",
       "    <tr>\n",
       "      <th>mean</th>\n",
       "      <td>12.196183</td>\n",
       "      <td>23.214819</td>\n",
       "      <td>2.385005</td>\n",
       "      <td>5.462440</td>\n",
       "      <td>7.599527</td>\n",
       "      <td>40.032002</td>\n",
       "      <td>14.052115</td>\n",
       "      <td>18.677579</td>\n",
       "      <td>68.895577</td>\n",
       "      <td>51.567626</td>\n",
       "      <td>1017.647080</td>\n",
       "      <td>1015.253117</td>\n",
       "      <td>4.450893</td>\n",
       "      <td>4.516140</td>\n",
       "      <td>16.991391</td>\n",
       "      <td>21.672771</td>\n",
       "    </tr>\n",
       "    <tr>\n",
       "      <th>std</th>\n",
       "      <td>6.389419</td>\n",
       "      <td>7.106596</td>\n",
       "      <td>8.588155</td>\n",
       "      <td>4.201638</td>\n",
       "      <td>3.789042</td>\n",
       "      <td>13.617554</td>\n",
       "      <td>8.926092</td>\n",
       "      <td>8.830199</td>\n",
       "      <td>18.995528</td>\n",
       "      <td>20.791573</td>\n",
       "      <td>7.117338</td>\n",
       "      <td>7.047875</td>\n",
       "      <td>2.884566</td>\n",
       "      <td>2.718738</td>\n",
       "      <td>6.477602</td>\n",
       "      <td>6.922833</td>\n",
       "    </tr>\n",
       "    <tr>\n",
       "      <th>min</th>\n",
       "      <td>-8.500000</td>\n",
       "      <td>-4.800000</td>\n",
       "      <td>0.000000</td>\n",
       "      <td>0.000000</td>\n",
       "      <td>0.000000</td>\n",
       "      <td>7.000000</td>\n",
       "      <td>0.000000</td>\n",
       "      <td>0.000000</td>\n",
       "      <td>0.000000</td>\n",
       "      <td>0.000000</td>\n",
       "      <td>980.500000</td>\n",
       "      <td>977.100000</td>\n",
       "      <td>0.000000</td>\n",
       "      <td>0.000000</td>\n",
       "      <td>-7.200000</td>\n",
       "      <td>-5.400000</td>\n",
       "    </tr>\n",
       "    <tr>\n",
       "      <th>25%</th>\n",
       "      <td>7.600000</td>\n",
       "      <td>17.900000</td>\n",
       "      <td>0.000000</td>\n",
       "      <td>2.600000</td>\n",
       "      <td>4.800000</td>\n",
       "      <td>31.000000</td>\n",
       "      <td>7.000000</td>\n",
       "      <td>13.000000</td>\n",
       "      <td>57.000000</td>\n",
       "      <td>37.000000</td>\n",
       "      <td>1012.900000</td>\n",
       "      <td>1010.400000</td>\n",
       "      <td>1.000000</td>\n",
       "      <td>2.000000</td>\n",
       "      <td>12.300000</td>\n",
       "      <td>16.600000</td>\n",
       "    </tr>\n",
       "    <tr>\n",
       "      <th>50%</th>\n",
       "      <td>12.000000</td>\n",
       "      <td>22.600000</td>\n",
       "      <td>0.000000</td>\n",
       "      <td>4.800000</td>\n",
       "      <td>8.400000</td>\n",
       "      <td>39.000000</td>\n",
       "      <td>13.000000</td>\n",
       "      <td>19.000000</td>\n",
       "      <td>70.000000</td>\n",
       "      <td>52.000000</td>\n",
       "      <td>1017.600000</td>\n",
       "      <td>1015.200000</td>\n",
       "      <td>5.000000</td>\n",
       "      <td>5.000000</td>\n",
       "      <td>16.700000</td>\n",
       "      <td>21.100000</td>\n",
       "    </tr>\n",
       "    <tr>\n",
       "      <th>75%</th>\n",
       "      <td>16.800000</td>\n",
       "      <td>28.200000</td>\n",
       "      <td>0.800000</td>\n",
       "      <td>7.400000</td>\n",
       "      <td>10.600000</td>\n",
       "      <td>48.000000</td>\n",
       "      <td>19.000000</td>\n",
       "      <td>24.000000</td>\n",
       "      <td>83.000000</td>\n",
       "      <td>66.000000</td>\n",
       "      <td>1022.400000</td>\n",
       "      <td>1020.000000</td>\n",
       "      <td>7.000000</td>\n",
       "      <td>7.000000</td>\n",
       "      <td>21.600000</td>\n",
       "      <td>26.400000</td>\n",
       "    </tr>\n",
       "    <tr>\n",
       "      <th>max</th>\n",
       "      <td>33.900000</td>\n",
       "      <td>47.300000</td>\n",
       "      <td>371.000000</td>\n",
       "      <td>145.000000</td>\n",
       "      <td>14.300000</td>\n",
       "      <td>135.000000</td>\n",
       "      <td>130.000000</td>\n",
       "      <td>87.000000</td>\n",
       "      <td>100.000000</td>\n",
       "      <td>100.000000</td>\n",
       "      <td>1041.000000</td>\n",
       "      <td>1039.600000</td>\n",
       "      <td>9.000000</td>\n",
       "      <td>9.000000</td>\n",
       "      <td>40.200000</td>\n",
       "      <td>46.700000</td>\n",
       "    </tr>\n",
       "  </tbody>\n",
       "</table>\n",
       "</div>"
      ],
      "text/plain": [
       "             SuhuMin        SuhuMax  ...        Suhu9am        Suhu3pm\n",
       "count  107973.000000  108166.000000  ...  107755.000000  106397.000000\n",
       "mean       12.196183      23.214819  ...      16.991391      21.672771\n",
       "std         6.389419       7.106596  ...       6.477602       6.922833\n",
       "min        -8.500000      -4.800000  ...      -7.200000      -5.400000\n",
       "25%         7.600000      17.900000  ...      12.300000      16.600000\n",
       "50%        12.000000      22.600000  ...      16.700000      21.100000\n",
       "75%        16.800000      28.200000  ...      21.600000      26.400000\n",
       "max        33.900000      47.300000  ...      40.200000      46.700000\n",
       "\n",
       "[8 rows x 16 columns]"
      ]
     },
     "metadata": {
      "tags": []
     },
     "output_type": "display_data"
    },
    {
     "data": {
      "application/vnd.google.colaboratory.intrinsic+json": {
       "type": "string"
      },
      "text/plain": [
       "'TEST DATAFRAME'"
      ]
     },
     "metadata": {
      "tags": []
     },
     "output_type": "display_data"
    },
    {
     "data": {
      "text/html": [
       "<div>\n",
       "<style scoped>\n",
       "    .dataframe tbody tr th:only-of-type {\n",
       "        vertical-align: middle;\n",
       "    }\n",
       "\n",
       "    .dataframe tbody tr th {\n",
       "        vertical-align: top;\n",
       "    }\n",
       "\n",
       "    .dataframe thead th {\n",
       "        text-align: right;\n",
       "    }\n",
       "</style>\n",
       "<table border=\"1\" class=\"dataframe\">\n",
       "  <thead>\n",
       "    <tr style=\"text-align: right;\">\n",
       "      <th></th>\n",
       "      <th>SuhuMin</th>\n",
       "      <th>SuhuMax</th>\n",
       "      <th>Hujan</th>\n",
       "      <th>Penguapan</th>\n",
       "      <th>SinarMatahari</th>\n",
       "      <th>KecepatanAnginTerkencang</th>\n",
       "      <th>KecepatanAngin9am</th>\n",
       "      <th>KecepatanAngin3pm</th>\n",
       "      <th>Kelembaban9am</th>\n",
       "      <th>Kelembaban3pm</th>\n",
       "      <th>Tekanan9am</th>\n",
       "      <th>Tekanan3pm</th>\n",
       "      <th>Awan9am</th>\n",
       "      <th>Awan3pm</th>\n",
       "      <th>Suhu9am</th>\n",
       "      <th>Suhu3pm</th>\n",
       "    </tr>\n",
       "  </thead>\n",
       "  <tbody>\n",
       "    <tr>\n",
       "      <th>count</th>\n",
       "      <td>18017.000000</td>\n",
       "      <td>18017.000000</td>\n",
       "      <td>17795.000000</td>\n",
       "      <td>10326.000000</td>\n",
       "      <td>9464.000000</td>\n",
       "      <td>16908.000000</td>\n",
       "      <td>17984.000000</td>\n",
       "      <td>17828.000000</td>\n",
       "      <td>17852.000000</td>\n",
       "      <td>17634.000000</td>\n",
       "      <td>16317.00000</td>\n",
       "      <td>16329.000000</td>\n",
       "      <td>11140.000000</td>\n",
       "      <td>10726.000000</td>\n",
       "      <td>17963.000000</td>\n",
       "      <td>17740.000000</td>\n",
       "    </tr>\n",
       "    <tr>\n",
       "      <th>mean</th>\n",
       "      <td>12.233158</td>\n",
       "      <td>23.295604</td>\n",
       "      <td>2.333560</td>\n",
       "      <td>5.509646</td>\n",
       "      <td>7.630135</td>\n",
       "      <td>39.974095</td>\n",
       "      <td>13.971864</td>\n",
       "      <td>18.585540</td>\n",
       "      <td>68.791676</td>\n",
       "      <td>51.438811</td>\n",
       "      <td>1017.56166</td>\n",
       "      <td>1015.181064</td>\n",
       "      <td>4.449820</td>\n",
       "      <td>4.498322</td>\n",
       "      <td>17.048945</td>\n",
       "      <td>21.774408</td>\n",
       "    </tr>\n",
       "    <tr>\n",
       "      <th>std</th>\n",
       "      <td>6.433053</td>\n",
       "      <td>7.156981</td>\n",
       "      <td>8.320407</td>\n",
       "      <td>4.159158</td>\n",
       "      <td>3.796355</td>\n",
       "      <td>13.491682</td>\n",
       "      <td>8.828422</td>\n",
       "      <td>8.748586</td>\n",
       "      <td>19.158606</td>\n",
       "      <td>20.799233</td>\n",
       "      <td>7.14728</td>\n",
       "      <td>7.072656</td>\n",
       "      <td>2.890697</td>\n",
       "      <td>2.725233</td>\n",
       "      <td>6.524556</td>\n",
       "      <td>6.978095</td>\n",
       "    </tr>\n",
       "    <tr>\n",
       "      <th>min</th>\n",
       "      <td>-7.600000</td>\n",
       "      <td>-2.500000</td>\n",
       "      <td>0.000000</td>\n",
       "      <td>0.000000</td>\n",
       "      <td>0.000000</td>\n",
       "      <td>6.000000</td>\n",
       "      <td>0.000000</td>\n",
       "      <td>0.000000</td>\n",
       "      <td>2.000000</td>\n",
       "      <td>1.000000</td>\n",
       "      <td>982.30000</td>\n",
       "      <td>984.500000</td>\n",
       "      <td>0.000000</td>\n",
       "      <td>0.000000</td>\n",
       "      <td>-5.200000</td>\n",
       "      <td>-3.700000</td>\n",
       "    </tr>\n",
       "    <tr>\n",
       "      <th>25%</th>\n",
       "      <td>7.700000</td>\n",
       "      <td>18.000000</td>\n",
       "      <td>0.000000</td>\n",
       "      <td>2.600000</td>\n",
       "      <td>4.900000</td>\n",
       "      <td>31.000000</td>\n",
       "      <td>7.000000</td>\n",
       "      <td>13.000000</td>\n",
       "      <td>57.000000</td>\n",
       "      <td>36.000000</td>\n",
       "      <td>1012.90000</td>\n",
       "      <td>1010.400000</td>\n",
       "      <td>1.000000</td>\n",
       "      <td>2.000000</td>\n",
       "      <td>12.300000</td>\n",
       "      <td>16.700000</td>\n",
       "    </tr>\n",
       "    <tr>\n",
       "      <th>50%</th>\n",
       "      <td>12.000000</td>\n",
       "      <td>22.700000</td>\n",
       "      <td>0.000000</td>\n",
       "      <td>4.800000</td>\n",
       "      <td>8.400000</td>\n",
       "      <td>39.000000</td>\n",
       "      <td>13.000000</td>\n",
       "      <td>17.000000</td>\n",
       "      <td>70.000000</td>\n",
       "      <td>52.000000</td>\n",
       "      <td>1017.60000</td>\n",
       "      <td>1015.200000</td>\n",
       "      <td>5.000000</td>\n",
       "      <td>5.000000</td>\n",
       "      <td>16.800000</td>\n",
       "      <td>21.200000</td>\n",
       "    </tr>\n",
       "    <tr>\n",
       "      <th>75%</th>\n",
       "      <td>16.900000</td>\n",
       "      <td>28.300000</td>\n",
       "      <td>0.600000</td>\n",
       "      <td>7.400000</td>\n",
       "      <td>10.700000</td>\n",
       "      <td>48.000000</td>\n",
       "      <td>19.000000</td>\n",
       "      <td>24.000000</td>\n",
       "      <td>83.000000</td>\n",
       "      <td>66.000000</td>\n",
       "      <td>1022.30000</td>\n",
       "      <td>1019.900000</td>\n",
       "      <td>7.000000</td>\n",
       "      <td>7.000000</td>\n",
       "      <td>21.600000</td>\n",
       "      <td>26.600000</td>\n",
       "    </tr>\n",
       "    <tr>\n",
       "      <th>max</th>\n",
       "      <td>31.400000</td>\n",
       "      <td>48.100000</td>\n",
       "      <td>247.200000</td>\n",
       "      <td>68.800000</td>\n",
       "      <td>14.500000</td>\n",
       "      <td>122.000000</td>\n",
       "      <td>83.000000</td>\n",
       "      <td>83.000000</td>\n",
       "      <td>100.000000</td>\n",
       "      <td>100.000000</td>\n",
       "      <td>1040.60000</td>\n",
       "      <td>1038.400000</td>\n",
       "      <td>8.000000</td>\n",
       "      <td>8.000000</td>\n",
       "      <td>37.700000</td>\n",
       "      <td>46.100000</td>\n",
       "    </tr>\n",
       "  </tbody>\n",
       "</table>\n",
       "</div>"
      ],
      "text/plain": [
       "            SuhuMin       SuhuMax  ...       Suhu9am       Suhu3pm\n",
       "count  18017.000000  18017.000000  ...  17963.000000  17740.000000\n",
       "mean      12.233158     23.295604  ...     17.048945     21.774408\n",
       "std        6.433053      7.156981  ...      6.524556      6.978095\n",
       "min       -7.600000     -2.500000  ...     -5.200000     -3.700000\n",
       "25%        7.700000     18.000000  ...     12.300000     16.700000\n",
       "50%       12.000000     22.700000  ...     16.800000     21.200000\n",
       "75%       16.900000     28.300000  ...     21.600000     26.600000\n",
       "max       31.400000     48.100000  ...     37.700000     46.100000\n",
       "\n",
       "[8 rows x 16 columns]"
      ]
     },
     "metadata": {
      "tags": []
     },
     "output_type": "display_data"
    }
   ],
   "source": [
    "display(\"TRAIN DATAFRAME\",df_train.describe())\n",
    "display(\"TEST DATAFRAME\",df_test.describe())"
   ]
  },
  {
   "cell_type": "markdown",
   "metadata": {
    "id": "6QVMCsiKG0GP"
   },
   "source": [
    "### Checking missing values "
   ]
  },
  {
   "cell_type": "code",
   "execution_count": null,
   "metadata": {
    "colab": {
     "base_uri": "https://localhost:8080/"
    },
    "id": "u_cRN5vmvE4L",
    "outputId": "ee22c086-7d0b-4151-e0ff-130896750279"
   },
   "outputs": [
    {
     "name": "stdout",
     "output_type": "stream",
     "text": [
      "Train Data Frame\n",
      "Tanggal                         0\n",
      "KodeLokasi                      0\n",
      "SuhuMin                      1122\n",
      "SuhuMax                       929\n",
      "Hujan                        2431\n",
      "Penguapan                   47024\n",
      "SinarMatahari               52379\n",
      "ArahAnginTerkencang          7744\n",
      "KecepatanAnginTerkencang     7696\n",
      "ArahAngin9am                 7923\n",
      "ArahAngin3pm                 3197\n",
      "KecepatanAngin9am            1353\n",
      "KecepatanAngin3pm            2303\n",
      "Kelembaban9am                2002\n",
      "Kelembaban3pm                3374\n",
      "Tekanan9am                  11327\n",
      "Tekanan3pm                  11308\n",
      "Awan9am                     41844\n",
      "Awan3pm                     44471\n",
      "Suhu9am                      1340\n",
      "Suhu3pm                      2698\n",
      "BersaljuHariIni              2431\n",
      "BersaljuBesok                2431\n",
      "dtype: int64\n",
      " -------------------------------- \n",
      "Test Data Frame\n",
      "Tanggal                        0\n",
      "KodeLokasi                     0\n",
      "SuhuMin                      165\n",
      "SuhuMax                      165\n",
      "Hujan                        387\n",
      "Penguapan                   7856\n",
      "SinarMatahari               8718\n",
      "ArahAnginTerkencang         1281\n",
      "KecepatanAnginTerkencang    1274\n",
      "ArahAngin9am                1308\n",
      "ArahAngin3pm                 496\n",
      "KecepatanAngin9am            198\n",
      "KecepatanAngin3pm            354\n",
      "Kelembaban9am                330\n",
      "Kelembaban3pm                548\n",
      "Tekanan9am                  1865\n",
      "Tekanan3pm                  1853\n",
      "Awan9am                     7042\n",
      "Awan3pm                     7456\n",
      "Suhu9am                      219\n",
      "Suhu3pm                      442\n",
      "BersaljuHariIni              387\n",
      "BersaljuBesok                419\n",
      "dtype: int64\n"
     ]
    }
   ],
   "source": [
    "def null_table(df_train, df_test):\n",
    "    print(\"Train Data Frame\")\n",
    "    print(pd.isnull(df_train).sum())\n",
    "    print(\" -------------------------------- \")\n",
    "    print(\"Test Data Frame\")\n",
    "    print(pd.isnull(df_test).sum())\n",
    "\n",
    "null_table(df_train, df_test)"
   ]
  },
  {
   "cell_type": "markdown",
   "metadata": {
    "id": "jbp3ZSDjG0GQ"
   },
   "source": [
    "### Handle Missing Value"
   ]
  },
  {
   "cell_type": "code",
   "execution_count": null,
   "metadata": {
    "id": "RGHzUPiYG0GQ"
   },
   "outputs": [],
   "source": [
    "df_train.dropna(subset=['BersaljuBesok'], inplace=True)\n",
    "df_test.dropna(subset=['BersaljuBesok'], inplace=True)\n",
    "df_train.dropna(subset=['BersaljuHariIni'], inplace=True)\n",
    "df_test.dropna(subset=['BersaljuHariIni'], inplace=True)\n",
    "df_train.dropna(subset=['SuhuMax'], inplace=True)\n",
    "df_test.dropna(subset=['SuhuMax'], inplace=True)\n",
    "df_train.dropna(subset=['SuhuMin'], inplace=True)\n",
    "df_test.dropna(subset=['SuhuMin'], inplace=True)"
   ]
  },
  {
   "cell_type": "code",
   "execution_count": null,
   "metadata": {
    "colab": {
     "base_uri": "https://localhost:8080/"
    },
    "id": "Vx4WdCfyG0GQ",
    "outputId": "df101a93-5a64-40e4-88a8-1f490e870a74"
   },
   "outputs": [
    {
     "name": "stdout",
     "output_type": "stream",
     "text": [
      "(105094, 23) (17529, 23)\n",
      "Train Data Frame\n",
      "Tanggal                         0\n",
      "KodeLokasi                      0\n",
      "SuhuMin                         0\n",
      "SuhuMax                         0\n",
      "Hujan                           0\n",
      "Penguapan                   44294\n",
      "SinarMatahari               49652\n",
      "ArahAnginTerkencang          6459\n",
      "KecepatanAnginTerkencang     6417\n",
      "ArahAngin9am                 6977\n",
      "ArahAngin3pm                 2527\n",
      "KecepatanAngin9am             634\n",
      "KecepatanAngin3pm            1682\n",
      "Kelembaban9am                 951\n",
      "Kelembaban3pm                2383\n",
      "Tekanan9am                   9999\n",
      "Tekanan3pm                  10037\n",
      "Awan9am                     39168\n",
      "Awan3pm                     41721\n",
      "Suhu9am                       313\n",
      "Suhu3pm                      1730\n",
      "BersaljuHariIni                 0\n",
      "BersaljuBesok                   0\n",
      "dtype: int64\n",
      " -------------------------------- \n",
      "Test Data Frame\n",
      "Tanggal                        0\n",
      "KodeLokasi                     0\n",
      "SuhuMin                        0\n",
      "SuhuMax                        0\n",
      "Hujan                          0\n",
      "Penguapan                   7414\n",
      "SinarMatahari               8285\n",
      "ArahAnginTerkencang         1077\n",
      "KecepatanAnginTerkencang    1070\n",
      "ArahAngin9am                1170\n",
      "ArahAngin3pm                 398\n",
      "KecepatanAngin9am             99\n",
      "KecepatanAngin3pm            265\n",
      "Kelembaban9am                169\n",
      "Kelembaban3pm                387\n",
      "Tekanan9am                  1648\n",
      "Tekanan3pm                  1640\n",
      "Awan9am                     6625\n",
      "Awan3pm                     7036\n",
      "Suhu9am                       64\n",
      "Suhu3pm                      287\n",
      "BersaljuHariIni                0\n",
      "BersaljuBesok                  0\n",
      "dtype: int64\n"
     ]
    }
   ],
   "source": [
    "print(df_train.shape, df_test.shape)\n",
    "null_table(df_train, df_test)"
   ]
  },
  {
   "cell_type": "code",
   "execution_count": null,
   "metadata": {
    "id": "oO8Dloa1G0GR"
   },
   "outputs": [],
   "source": [
    "df_train = df_train.reset_index(drop=True)\n",
    "df_test = df_test.reset_index(drop=True)"
   ]
  },
  {
   "cell_type": "code",
   "execution_count": null,
   "metadata": {
    "id": "eWcefokJvHf0"
   },
   "outputs": [],
   "source": [
    "# fill NaN data numerik dengan mean dan fill NaN data lainnya dengan modus \n",
    "f = lambda x:x.mean() if np.issubdtype(x.dtype, np.number) else x.mode().iloc[0]\n",
    "df_train = df_train.fillna(df_train.groupby([df_train.Tanggal.dt.year,df_train.Tanggal.dt.month]).transform(f))\n",
    "df_test = df_test.fillna(df_test.groupby([df_test.Tanggal.dt.year,df_test.Tanggal.dt.month]).transform(f))"
   ]
  },
  {
   "cell_type": "code",
   "execution_count": null,
   "metadata": {
    "id": "BkT0hEbKvJNq"
   },
   "outputs": [],
   "source": [
    "df_train = df_train.infer_objects()\n",
    "df_test = df_test.infer_objects()"
   ]
  },
  {
   "cell_type": "code",
   "execution_count": null,
   "metadata": {
    "colab": {
     "base_uri": "https://localhost:8080/"
    },
    "id": "z3ciVbNBvLGQ",
    "outputId": "08dce842-977b-4686-e471-8980d4a9448d"
   },
   "outputs": [
    {
     "name": "stdout",
     "output_type": "stream",
     "text": [
      "Train Data Frame\n",
      "Tanggal                     0\n",
      "KodeLokasi                  0\n",
      "SuhuMin                     0\n",
      "SuhuMax                     0\n",
      "Hujan                       0\n",
      "Penguapan                   0\n",
      "SinarMatahari               0\n",
      "ArahAnginTerkencang         0\n",
      "KecepatanAnginTerkencang    0\n",
      "ArahAngin9am                0\n",
      "ArahAngin3pm                0\n",
      "KecepatanAngin9am           0\n",
      "KecepatanAngin3pm           0\n",
      "Kelembaban9am               0\n",
      "Kelembaban3pm               0\n",
      "Tekanan9am                  0\n",
      "Tekanan3pm                  0\n",
      "Awan9am                     0\n",
      "Awan3pm                     0\n",
      "Suhu9am                     0\n",
      "Suhu3pm                     0\n",
      "BersaljuHariIni             0\n",
      "BersaljuBesok               0\n",
      "dtype: int64\n",
      " -------------------------------- \n",
      "Test Data Frame\n",
      "Tanggal                     0\n",
      "KodeLokasi                  0\n",
      "SuhuMin                     0\n",
      "SuhuMax                     0\n",
      "Hujan                       0\n",
      "Penguapan                   0\n",
      "SinarMatahari               0\n",
      "ArahAnginTerkencang         0\n",
      "KecepatanAnginTerkencang    0\n",
      "ArahAngin9am                0\n",
      "ArahAngin3pm                0\n",
      "KecepatanAngin9am           0\n",
      "KecepatanAngin3pm           0\n",
      "Kelembaban9am               0\n",
      "Kelembaban3pm               0\n",
      "Tekanan9am                  0\n",
      "Tekanan3pm                  0\n",
      "Awan9am                     0\n",
      "Awan3pm                     0\n",
      "Suhu9am                     0\n",
      "Suhu3pm                     0\n",
      "BersaljuHariIni             0\n",
      "BersaljuBesok               0\n",
      "dtype: int64\n"
     ]
    }
   ],
   "source": [
    "null_table(df_train, df_test)"
   ]
  },
  {
   "cell_type": "markdown",
   "metadata": {
    "id": "7UFp0oLSG0GS"
   },
   "source": [
    "### Check Duplicate "
   ]
  },
  {
   "cell_type": "code",
   "execution_count": null,
   "metadata": {
    "colab": {
     "base_uri": "https://localhost:8080/"
    },
    "id": "eYnYz-oOvNWV",
    "outputId": "aaccfbf7-16a6-47f1-aa7c-a5ed354d3cfd"
   },
   "outputs": [
    {
     "name": "stdout",
     "output_type": "stream",
     "text": [
      "Train : 0\n",
      "Test : 0\n"
     ]
    }
   ],
   "source": [
    "print(\"Train :\",df_train.duplicated().sum())\n",
    "print(\"Test :\",df_test.duplicated().sum())"
   ]
  },
  {
   "cell_type": "markdown",
   "metadata": {
    "id": "Klt6YpqzG0GS"
   },
   "source": [
    "### Comparison between class \"Ya/Yes\" and \"Tidak/No\" in data label "
   ]
  },
  {
   "cell_type": "code",
   "execution_count": null,
   "metadata": {
    "id": "xsAWa2ANvOIl"
   },
   "outputs": [],
   "source": [
    "train = df_train.copy(deep=True)\n",
    "test = df_test.copy(deep=True)"
   ]
  },
  {
   "cell_type": "code",
   "execution_count": null,
   "metadata": {
    "colab": {
     "base_uri": "https://localhost:8080/",
     "height": 285
    },
    "id": "NbPSkI5HvRRg",
    "outputId": "f2ceaa3c-4a7d-44c2-ccfa-777483f5400b"
   },
   "outputs": [
    {
     "data": {
      "image/png": "[encoded data removed]",
      "text/plain": [
       "<Figure size 576x288 with 1 Axes>"
      ]
     },
     "metadata": {
      "tags": []
     },
     "output_type": "display_data"
    }
   ],
   "source": [
    "plt.figure(figsize=(8,4))\n",
    "sns.countplot(x='BersaljuBesok', data=train)\n",
    "plt.show()"
   ]
  },
  {
   "cell_type": "code",
   "execution_count": null,
   "metadata": {
    "colab": {
     "base_uri": "https://localhost:8080/",
     "height": 285
    },
    "id": "slhGqyhRvULP",
    "outputId": "2402a9ef-c145-4f10-a82c-fec42481e1f3"
   },
   "outputs": [
    {
     "data": {
      "image/png": "[encoded data removed]",
      "text/plain": [
       "<Figure size 576x288 with 1 Axes>"
      ]
     },
     "metadata": {
      "tags": []
     },
     "output_type": "display_data"
    }
   ],
   "source": [
    "plt.figure(figsize=(8,4))\n",
    "sns.countplot(x='BersaljuBesok', data=test)\n",
    "plt.show()"
   ]
  },
  {
   "cell_type": "markdown",
   "metadata": {
    "id": "HdUG_Nd1G0GT"
   },
   "source": [
    "### Hubungan Arah Angin dan Label   "
   ]
  },
  {
   "cell_type": "code",
   "execution_count": null,
   "metadata": {
    "colab": {
     "base_uri": "https://localhost:8080/",
     "height": 720
    },
    "id": "RyB2Hzc-G0GU",
    "outputId": "ff2248ab-1fab-4aeb-d82c-8dedbd0680a9"
   },
   "outputs": [
    {
     "data": {
      "image/png": "[encoded data removed]",
      "text/plain": [
       "<Figure size 1080x864 with 3 Axes>"
      ]
     },
     "metadata": {
      "tags": []
     },
     "output_type": "display_data"
    }
   ],
   "source": [
    "angin = train[['ArahAnginTerkencang','ArahAngin9am','ArahAngin3pm']]\n",
    "fig, axes = plt.subplots(ncols=1, nrows=3)\n",
    "for i, ax in zip(angin.columns, axes.flat):\n",
    "    sns.countplot(x=angin[i], hue=train['BersaljuBesok'], ax=ax)\n",
    "plt.show()"
   ]
  },
  {
   "cell_type": "markdown",
   "metadata": {
    "id": "-y5Hc8_4G0GU"
   },
   "source": [
    "### Comparison between BersaljuHariIni and BersaljuBesok  "
   ]
  },
  {
   "cell_type": "code",
   "execution_count": null,
   "metadata": {
    "colab": {
     "base_uri": "https://localhost:8080/",
     "height": 285
    },
    "id": "VT9VCrMrG0GU",
    "outputId": "3ebb6dfd-7d13-4d24-a832-f32a52a6ff40"
   },
   "outputs": [
    {
     "data": {
      "image/png": "[encoded data removed]",
      "text/plain": [
       "<Figure size 576x288 with 1 Axes>"
      ]
     },
     "metadata": {
      "tags": []
     },
     "output_type": "display_data"
    }
   ],
   "source": [
    "plt.figure(figsize=(8,4))\n",
    "sns.countplot(x=train['BersaljuHariIni'], hue=train['BersaljuBesok'])\n",
    "plt.show()"
   ]
  },
  {
   "cell_type": "code",
   "execution_count": null,
   "metadata": {
    "colab": {
     "base_uri": "https://localhost:8080/",
     "height": 287
    },
    "id": "DxyUQDEFG0GV",
    "outputId": "b430a207-9b17-47c4-dbba-50df26a136aa"
   },
   "outputs": [
    {
     "data": {
      "image/png": "[encoded data removed]",
      "text/plain": [
       "<Figure size 576x288 with 1 Axes>"
      ]
     },
     "metadata": {
      "tags": []
     },
     "output_type": "display_data"
    }
   ],
   "source": [
    "plt.figure(figsize=(8,4))\n",
    "sns.countplot(x=test['BersaljuHariIni'], hue=test['BersaljuBesok'])\n",
    "plt.show()"
   ]
  },
  {
   "cell_type": "markdown",
   "metadata": {
    "id": "gD4x3n28G0GV"
   },
   "source": [
    "### Correlation of [data feature-data feature] and [data feature-data label]"
   ]
  },
  {
   "cell_type": "code",
   "execution_count": null,
   "metadata": {
    "id": "wXpswkcoG0GV"
   },
   "outputs": [],
   "source": [
    "cols = ['ArahAnginTerkencang','ArahAngin9am','ArahAngin3pm','BersaljuHariIni','BersaljuBesok']\n",
    "train[cols] = train[cols].apply(LabelEncoder().fit_transform)"
   ]
  },
  {
   "cell_type": "code",
   "execution_count": null,
   "metadata": {
    "colab": {
     "base_uri": "https://localhost:8080/",
     "height": 846
    },
    "id": "wfvGm4VBG0GV",
    "outputId": "ac1558f8-0e66-4a2b-fb48-df93930fb522"
   },
   "outputs": [
    {
     "data": {
      "image/png": "[encoded data removed]",
      "text/plain": [
       "<Figure size 1152x864 with 2 Axes>"
      ]
     },
     "metadata": {
      "tags": []
     },
     "output_type": "display_data"
    }
   ],
   "source": [
    "# menampilkan korelasi\n",
    "df_corr = train.corr()\n",
    "mask = np.triu(np.ones_like(df_corr, dtype=bool))\n",
    "cmap = sns.diverging_palette(250, 15, s=75, l=40,\n",
    "                             n=9, center=\"light\", as_cmap=True)\n",
    "plt.figure(figsize=(16, 12))\n",
    "sns.heatmap(df_corr, mask=mask, center=0, annot=True,\n",
    "             fmt='.2f', square=True, cmap=cmap)\n",
    "plt.show()"
   ]
  },
  {
   "cell_type": "markdown",
   "metadata": {
    "id": "2c6viyuFG0GW"
   },
   "source": [
    "### Feature Engineering"
   ]
  },
  {
   "cell_type": "markdown",
   "metadata": {
    "id": "_NShI7gLG0GW"
   },
   "source": [
    "#### Choose features"
   ]
  },
  {
   "cell_type": "code",
   "execution_count": null,
   "metadata": {
    "id": "oGhgulyFvWBe"
   },
   "outputs": [],
   "source": [
    "# Pilih kolom2 yang berpotensi dan drop sisanya\n",
    "\n",
    "drop = ['Tanggal', 'KodeLokasi','Suhu3pm','Suhu9am','SuhuMax','KecepatanAngin3pm','KecepatanAngin9am','Kelembaban9am','Tekanan9am','ArahAnginTerkencang','ArahAngin3pm','ArahAngin9am','Awan9am']\n",
    "df_train.drop(drop,axis=1,inplace=True)\n",
    "df_test.drop(drop,axis=1,inplace=True)"
   ]
  },
  {
   "cell_type": "code",
   "execution_count": null,
   "metadata": {
    "colab": {
     "base_uri": "https://localhost:8080/",
     "height": 391
    },
    "id": "Axg74jTnVK6H",
    "outputId": "af88cbfa-7413-42db-b9f2-06f82069fc4d"
   },
   "outputs": [
    {
     "data": {
      "text/html": [
       "<div>\n",
       "<style scoped>\n",
       "    .dataframe tbody tr th:only-of-type {\n",
       "        vertical-align: middle;\n",
       "    }\n",
       "\n",
       "    .dataframe tbody tr th {\n",
       "        vertical-align: top;\n",
       "    }\n",
       "\n",
       "    .dataframe thead th {\n",
       "        text-align: right;\n",
       "    }\n",
       "</style>\n",
       "<table border=\"1\" class=\"dataframe\">\n",
       "  <thead>\n",
       "    <tr style=\"text-align: right;\">\n",
       "      <th></th>\n",
       "      <th>SuhuMin</th>\n",
       "      <th>Hujan</th>\n",
       "      <th>Penguapan</th>\n",
       "      <th>SinarMatahari</th>\n",
       "      <th>KecepatanAnginTerkencang</th>\n",
       "      <th>Kelembaban3pm</th>\n",
       "      <th>Tekanan3pm</th>\n",
       "      <th>Awan3pm</th>\n",
       "      <th>BersaljuHariIni</th>\n",
       "      <th>BersaljuBesok</th>\n",
       "    </tr>\n",
       "  </thead>\n",
       "  <tbody>\n",
       "    <tr>\n",
       "      <th>0</th>\n",
       "      <td>10.4</td>\n",
       "      <td>4.8</td>\n",
       "      <td>8.596610</td>\n",
       "      <td>8.903448</td>\n",
       "      <td>24.000000</td>\n",
       "      <td>76.0</td>\n",
       "      <td>1018.500000</td>\n",
       "      <td>4.012579</td>\n",
       "      <td>Ya</td>\n",
       "      <td>Tidak</td>\n",
       "    </tr>\n",
       "    <tr>\n",
       "      <th>1</th>\n",
       "      <td>9.0</td>\n",
       "      <td>8.0</td>\n",
       "      <td>2.600000</td>\n",
       "      <td>7.400000</td>\n",
       "      <td>39.406037</td>\n",
       "      <td>61.0</td>\n",
       "      <td>1014.600000</td>\n",
       "      <td>5.000000</td>\n",
       "      <td>Ya</td>\n",
       "      <td>Ya</td>\n",
       "    </tr>\n",
       "    <tr>\n",
       "      <th>2</th>\n",
       "      <td>18.2</td>\n",
       "      <td>0.0</td>\n",
       "      <td>5.787784</td>\n",
       "      <td>7.802532</td>\n",
       "      <td>44.000000</td>\n",
       "      <td>42.0</td>\n",
       "      <td>1013.541479</td>\n",
       "      <td>4.715564</td>\n",
       "      <td>Tidak</td>\n",
       "      <td>Tidak</td>\n",
       "    </tr>\n",
       "    <tr>\n",
       "      <th>3</th>\n",
       "      <td>7.3</td>\n",
       "      <td>0.0</td>\n",
       "      <td>8.400000</td>\n",
       "      <td>10.400000</td>\n",
       "      <td>54.000000</td>\n",
       "      <td>17.0</td>\n",
       "      <td>1016.900000</td>\n",
       "      <td>7.000000</td>\n",
       "      <td>Tidak</td>\n",
       "      <td>Tidak</td>\n",
       "    </tr>\n",
       "    <tr>\n",
       "      <th>4</th>\n",
       "      <td>5.9</td>\n",
       "      <td>0.0</td>\n",
       "      <td>3.600000</td>\n",
       "      <td>12.600000</td>\n",
       "      <td>37.000000</td>\n",
       "      <td>48.0</td>\n",
       "      <td>1014.700000</td>\n",
       "      <td>6.000000</td>\n",
       "      <td>Tidak</td>\n",
       "      <td>Tidak</td>\n",
       "    </tr>\n",
       "  </tbody>\n",
       "</table>\n",
       "</div>"
      ],
      "text/plain": [
       "   SuhuMin  Hujan  Penguapan  ...   Awan3pm  BersaljuHariIni  BersaljuBesok\n",
       "0     10.4    4.8   8.596610  ...  4.012579               Ya          Tidak\n",
       "1      9.0    8.0   2.600000  ...  5.000000               Ya             Ya\n",
       "2     18.2    0.0   5.787784  ...  4.715564            Tidak          Tidak\n",
       "3      7.3    0.0   8.400000  ...  7.000000            Tidak          Tidak\n",
       "4      5.9    0.0   3.600000  ...  6.000000            Tidak          Tidak\n",
       "\n",
       "[5 rows x 10 columns]"
      ]
     },
     "metadata": {
      "tags": []
     },
     "output_type": "display_data"
    },
    {
     "data": {
      "text/html": [
       "<div>\n",
       "<style scoped>\n",
       "    .dataframe tbody tr th:only-of-type {\n",
       "        vertical-align: middle;\n",
       "    }\n",
       "\n",
       "    .dataframe tbody tr th {\n",
       "        vertical-align: top;\n",
       "    }\n",
       "\n",
       "    .dataframe thead th {\n",
       "        text-align: right;\n",
       "    }\n",
       "</style>\n",
       "<table border=\"1\" class=\"dataframe\">\n",
       "  <thead>\n",
       "    <tr style=\"text-align: right;\">\n",
       "      <th></th>\n",
       "      <th>SuhuMin</th>\n",
       "      <th>Hujan</th>\n",
       "      <th>Penguapan</th>\n",
       "      <th>SinarMatahari</th>\n",
       "      <th>KecepatanAnginTerkencang</th>\n",
       "      <th>Kelembaban3pm</th>\n",
       "      <th>Tekanan3pm</th>\n",
       "      <th>Awan3pm</th>\n",
       "      <th>BersaljuHariIni</th>\n",
       "      <th>BersaljuBesok</th>\n",
       "    </tr>\n",
       "  </thead>\n",
       "  <tbody>\n",
       "    <tr>\n",
       "      <th>0</th>\n",
       "      <td>11.0</td>\n",
       "      <td>0.0</td>\n",
       "      <td>4.615909</td>\n",
       "      <td>6.400000</td>\n",
       "      <td>46.0</td>\n",
       "      <td>56.0</td>\n",
       "      <td>1012.400000</td>\n",
       "      <td>7.000000</td>\n",
       "      <td>No</td>\n",
       "      <td>No</td>\n",
       "    </tr>\n",
       "    <tr>\n",
       "      <th>1</th>\n",
       "      <td>10.0</td>\n",
       "      <td>0.2</td>\n",
       "      <td>6.768182</td>\n",
       "      <td>7.958228</td>\n",
       "      <td>56.0</td>\n",
       "      <td>32.0</td>\n",
       "      <td>1015.200000</td>\n",
       "      <td>1.000000</td>\n",
       "      <td>No</td>\n",
       "      <td>Yes</td>\n",
       "    </tr>\n",
       "    <tr>\n",
       "      <th>2</th>\n",
       "      <td>9.2</td>\n",
       "      <td>0.0</td>\n",
       "      <td>5.200000</td>\n",
       "      <td>10.400000</td>\n",
       "      <td>33.0</td>\n",
       "      <td>27.0</td>\n",
       "      <td>1015.700000</td>\n",
       "      <td>1.000000</td>\n",
       "      <td>No</td>\n",
       "      <td>No</td>\n",
       "    </tr>\n",
       "    <tr>\n",
       "      <th>3</th>\n",
       "      <td>17.7</td>\n",
       "      <td>0.0</td>\n",
       "      <td>4.600000</td>\n",
       "      <td>6.700000</td>\n",
       "      <td>35.0</td>\n",
       "      <td>41.0</td>\n",
       "      <td>1008.600000</td>\n",
       "      <td>6.000000</td>\n",
       "      <td>No</td>\n",
       "      <td>No</td>\n",
       "    </tr>\n",
       "    <tr>\n",
       "      <th>4</th>\n",
       "      <td>2.3</td>\n",
       "      <td>88.0</td>\n",
       "      <td>4.087273</td>\n",
       "      <td>6.450000</td>\n",
       "      <td>46.0</td>\n",
       "      <td>95.0</td>\n",
       "      <td>1016.286029</td>\n",
       "      <td>4.324324</td>\n",
       "      <td>Yes</td>\n",
       "      <td>No</td>\n",
       "    </tr>\n",
       "  </tbody>\n",
       "</table>\n",
       "</div>"
      ],
      "text/plain": [
       "   SuhuMin  Hujan  Penguapan  ...   Awan3pm  BersaljuHariIni  BersaljuBesok\n",
       "0     11.0    0.0   4.615909  ...  7.000000               No             No\n",
       "1     10.0    0.2   6.768182  ...  1.000000               No            Yes\n",
       "2      9.2    0.0   5.200000  ...  1.000000               No             No\n",
       "3     17.7    0.0   4.600000  ...  6.000000               No             No\n",
       "4      2.3   88.0   4.087273  ...  4.324324              Yes             No\n",
       "\n",
       "[5 rows x 10 columns]"
      ]
     },
     "metadata": {
      "tags": []
     },
     "output_type": "display_data"
    }
   ],
   "source": [
    "display(df_train.head())\n",
    "display(df_test.head())"
   ]
  },
  {
   "cell_type": "markdown",
   "metadata": {
    "id": "-PYTRATXG0GX"
   },
   "source": [
    "#### Label Encode data label \"BersaljuBesok\" and feature \"BersaljuHariIni\" "
   ]
  },
  {
   "cell_type": "code",
   "execution_count": null,
   "metadata": {
    "id": "jzRe-S7uvcHd"
   },
   "outputs": [],
   "source": [
    "cols = ['BersaljuHariIni','BersaljuBesok']\n",
    "df_train[cols] = df_train[cols].apply(LabelEncoder().fit_transform)\n",
    "df_test[cols] = df_test[cols].apply(LabelEncoder().fit_transform)"
   ]
  },
  {
   "cell_type": "code",
   "execution_count": null,
   "metadata": {
    "id": "5fza5nMtvgtn"
   },
   "outputs": [],
   "source": [
    "# df_train = pd.get_dummies(df_train, columns=['ArahAnginTerkencang'])\n",
    "# df_test = pd.get_dummies(df_test, columns=['ArahAnginTerkencang'])"
   ]
  },
  {
   "cell_type": "markdown",
   "metadata": {
    "id": "ZlUVv1mbG0GY"
   },
   "source": [
    "#### Scaling data "
   ]
  },
  {
   "cell_type": "code",
   "execution_count": null,
   "metadata": {
    "id": "RiTdeL4EvkDI"
   },
   "outputs": [],
   "source": [
    "scale_train = StandardScaler().fit_transform(df_train)\n",
    "scale_train = pd.DataFrame(scale_train, columns=df_train.columns)\n",
    "scale_test = StandardScaler().fit_transform(df_test)\n",
    "scale_test = pd.DataFrame(scale_test, columns=df_test.columns)"
   ]
  },
  {
   "cell_type": "code",
   "execution_count": null,
   "metadata": {
    "id": "qL0IxNxDY7fz"
   },
   "outputs": [],
   "source": [
    "scale_train.to_csv('train.csv', index=False)\n",
    "scale_test.to_csv('test.csv', index=False)"
   ]
  },
  {
   "cell_type": "markdown",
   "metadata": {
    "id": "sVzcabY1G0GY"
   },
   "source": [
    "### Separate features and label "
   ]
  },
  {
   "cell_type": "code",
   "execution_count": null,
   "metadata": {
    "id": "J1hH6rCPIDW2"
   },
   "outputs": [],
   "source": [
    "X_train = scale_train.loc[ : , scale_train.columns != 'BersaljuBesok']\n",
    "y_train = scale_train['BersaljuBesok']\n",
    "X_test = scale_test.loc[ : , scale_test.columns != 'BersaljuBesok']\n",
    "y_test = scale_test['BersaljuBesok']"
   ]
  },
  {
   "cell_type": "code",
   "execution_count": null,
   "metadata": {
    "id": "lxFArFHfShOB"
   },
   "outputs": [],
   "source": [
    "y_train = y_train.astype(int)\n",
    "y_test = y_test.astype(int)"
   ]
  },
  {
   "cell_type": "markdown",
   "metadata": {
    "id": "pG-4ZgOfG0GZ"
   },
   "source": [
    "### Modeling with KNN"
   ]
  },
  {
   "cell_type": "code",
   "execution_count": null,
   "metadata": {
    "id": "TcO_3-JJG0GZ"
   },
   "outputs": [],
   "source": [
    "# Note :\n",
    "# 0 = Tidak\n",
    "# 1 = Ya"
   ]
  },
  {
   "cell_type": "code",
   "execution_count": null,
   "metadata": {
    "id": "igi7F9qI07gE"
   },
   "outputs": [],
   "source": [
    "import timeit\n",
    "from sklearn.neighbors import KNeighborsClassifier\n",
    "from sklearn.tree import DecisionTreeClassifier\n",
    "from sklearn.ensemble import RandomForestClassifier\n",
    "from sklearn.model_selection import RandomizedSearchCV, GridSearchCV\n",
    "from sklearn.metrics import confusion_matrix, classification_report, accuracy_score, f1_score"
   ]
  },
  {
   "cell_type": "code",
   "execution_count": null,
   "metadata": {
    "colab": {
     "base_uri": "https://localhost:8080/"
    },
    "id": "AdNyTp7ogFCt",
    "outputId": "3001911f-0097-4940-8454-8d91cc1eff80"
   },
   "outputs": [
    {
     "name": "stdout",
     "output_type": "stream",
     "text": [
      "Model Score with KNN : 0.8449673860140955\n",
      "Best Parameter {'weights': 'distance', 'n_neighbors': 25, 'metric': 'minkowski'}\n",
      "Confusion Matrix\n",
      " [[12983   692]\n",
      " [ 1966  1888]]\n",
      "Classification Report\n",
      "               precision    recall  f1-score   support\n",
      "\n",
      "           0       0.87      0.95      0.91     13675\n",
      "           1       0.73      0.49      0.59      3854\n",
      "\n",
      "    accuracy                           0.85     17529\n",
      "   macro avg       0.80      0.72      0.75     17529\n",
      "weighted avg       0.84      0.85      0.84     17529\n",
      "\n",
      "Lama eksekusi:  716.7450225840003 detik\n"
     ]
    }
   ],
   "source": [
    "start = timeit.default_timer() # catat waktu mulai\n",
    "\n",
    "params = {     \n",
    "    'n_neighbors' : np.arange(3,26,2),\n",
    "    'weights' : ['uniform', 'distance'],\n",
    "    'metric' : ['euclidean','minkowski']\n",
    "}\n",
    "\n",
    "randomized = RandomizedSearchCV(KNeighborsClassifier(), params, n_iter=15, scoring=\"accuracy\", n_jobs=-1, cv=7)\n",
    "randomized.fit(X_train, y_train)\n",
    "print(\"Model Score with KNN :\",randomized.best_score_)\n",
    "print(\"Best Parameter\",randomized.best_params_)\n",
    "y_pred_knn = randomized.predict(X_test)\n",
    "print(\"Confusion Matrix\\n\", confusion_matrix(y_test, y_pred_knn))\n",
    "print(\"Classification Report\\n\", classification_report(y_test, y_pred_knn, labels=[0, 1]))\n",
    "\n",
    "stop = timeit.default_timer() # catat waktu selesai\n",
    "lama_eksekusi = stop - start # lama eksekusi dalam satuan detik\n",
    "print(\"Lama eksekusi: \",lama_eksekusi,\"detik\")"
   ]
  },
  {
   "cell_type": "code",
   "execution_count": null,
   "metadata": {
    "colab": {
     "base_uri": "https://localhost:8080/"
    },
    "id": "Uh0AvRiz4qcn",
    "outputId": "d2abb56e-3c33-448c-d09e-b8220c087807"
   },
   "outputs": [
    {
     "name": "stdout",
     "output_type": "stream",
     "text": [
      "Test Set Score Accuracy : 0.848365565634092\n",
      "Test Set Score f1 score: 0.8367274360006018\n"
     ]
    }
   ],
   "source": [
    "print(\"Test Set Score Accuracy :\",accuracy_score(y_test, y_pred_knn))\n",
    "print(\"Test Set Score f1 score:\",f1_score(y_test, y_pred_knn, average=\"weighted\"))"
   ]
  },
  {
   "cell_type": "markdown",
   "metadata": {
    "id": "tkZuiYxmG0Gb"
   },
   "source": [
    "### Modeling with Decision Tree Classifier"
   ]
  },
  {
   "cell_type": "code",
   "execution_count": null,
   "metadata": {
    "colab": {
     "base_uri": "https://localhost:8080/"
    },
    "id": "6b-qKUFCG0Gc",
    "outputId": "a9fec8b0-4497-47e7-c235-48443dd1efac"
   },
   "outputs": [
    {
     "name": "stdout",
     "output_type": "stream",
     "text": [
      "Model Score with Decision Tree Classifier : 0.8419034508773121\n",
      "Best Parameter {'splitter': 'best', 'min_samples_split': 5, 'max_depth': 8, 'criterion': 'gini'}\n",
      "Confusion Matrix :\n",
      " [[12939   736]\n",
      " [ 2072  1782]]\n",
      "Classification Report :\n",
      "               precision    recall  f1-score   support\n",
      "\n",
      "           0       0.86      0.95      0.90     13675\n",
      "           1       0.71      0.46      0.56      3854\n",
      "\n",
      "    accuracy                           0.84     17529\n",
      "   macro avg       0.78      0.70      0.73     17529\n",
      "weighted avg       0.83      0.84      0.83     17529\n",
      "\n",
      "Lama eksekusi:  73.24622341500071 detik\n"
     ]
    }
   ],
   "source": [
    "start = timeit.default_timer() # catat waktu mulai\n",
    "\n",
    "params_dst = {\n",
    "    'criterion' : ['gini','entropy'],\n",
    "    'splitter' : ['best', 'random'],\n",
    "    'max_depth' : np.arange(1,10),\n",
    "    'min_samples_split' : [2, 5, 10, 15, 100]\n",
    "}\n",
    "\n",
    "randomized_dst = RandomizedSearchCV(DecisionTreeClassifier(), params_dst, n_iter=100, scoring=\"accuracy\", n_jobs=-1, cv=7)\n",
    "randomized_dst.fit(X_train, y_train)\n",
    "print(\"Model Score with Decision Tree Classifier :\",randomized_dst.best_score_)\n",
    "print(\"Best Parameter\",randomized_dst.best_params_)\n",
    "y_pred_dst = randomized_dst.predict(X_test)\n",
    "print(\"Confusion Matrix :\\n\",confusion_matrix(y_test, y_pred_dst))\n",
    "print(\"Classification Report :\\n\",classification_report(y_test, y_pred_dst, labels=[0, 1]))\n",
    "\n",
    "stop = timeit.default_timer() # catat waktu selesai\n",
    "lama_eksekusi = stop - start # lama eksekusi dalam satuan detik\n",
    "print(\"Lama eksekusi: \",lama_eksekusi,\"detik\")"
   ]
  },
  {
   "cell_type": "code",
   "execution_count": null,
   "metadata": {
    "colab": {
     "base_uri": "https://localhost:8080/"
    },
    "id": "WXNumhBu4jMQ",
    "outputId": "f2cf609a-151d-4b41-c42c-f7f7837eb8f9"
   },
   "outputs": [
    {
     "name": "stdout",
     "output_type": "stream",
     "text": [
      "Test Set Score Accuracy : 0.8398083176450454\n",
      "Test Set Score f1 score: 0.8267451622701014\n"
     ]
    }
   ],
   "source": [
    "print(\"Test Set Score Accuracy :\",accuracy_score(y_test, y_pred_dst))\n",
    "print(\"Test Set Score f1 score:\",f1_score(y_test, y_pred_dst, average=\"weighted\"))"
   ]
  },
  {
   "cell_type": "markdown",
   "metadata": {
    "id": "3F1IlIjwG0Gd"
   },
   "source": [
    "### Modeling with Random Forest Classifier"
   ]
  },
  {
   "cell_type": "code",
   "execution_count": null,
   "metadata": {
    "colab": {
     "base_uri": "https://localhost:8080/"
    },
    "id": "HZ8d_WuWG0Gd",
    "outputId": "68628b93-4dd3-45ae-d498-499728cee1ff"
   },
   "outputs": [
    {
     "name": "stdout",
     "output_type": "stream",
     "text": [
      "Model Score with Random Forest : 0.8468038230689074\n",
      "Best Parameter : {'n_estimators': 9, 'min_samples_split': 3, 'min_samples_leaf': 5, 'max_features': 'log2', 'max_depth': 10, 'criterion': 'gini'}\n",
      "Confusion Matrix :\n",
      " [[13071   604]\n",
      " [ 2029  1825]]\n",
      "Classification Report :\n",
      "               precision    recall  f1-score   support\n",
      "\n",
      "           0       0.87      0.96      0.91     13675\n",
      "           1       0.75      0.47      0.58      3854\n",
      "\n",
      "    accuracy                           0.85     17529\n",
      "   macro avg       0.81      0.71      0.74     17529\n",
      "weighted avg       0.84      0.85      0.84     17529\n",
      "\n",
      "Lama eksekusi:  207.47270590699918 detik\n"
     ]
    }
   ],
   "source": [
    "start = timeit.default_timer() # catat waktu mulai\n",
    "\n",
    "params_rfc = {\n",
    "    'n_estimators': [4, 6, 9], \n",
    "    'max_features': ['log2', 'sqrt','auto'], \n",
    "    'criterion': ['entropy', 'gini'],\n",
    "    'max_depth': [2, 3, 5, 10], \n",
    "    'min_samples_split': [2, 3, 5],\n",
    "    'min_samples_leaf': [1,5,8]\n",
    "}\n",
    "\n",
    "randomized_rfc = RandomizedSearchCV(RandomForestClassifier(), params_rfc, n_iter=100, scoring=\"accuracy\", n_jobs=-1, cv=7)\n",
    "randomized_rfc.fit(X_train, y_train)\n",
    "print(\"Model Score with Random Forest :\",randomized_rfc.best_score_)\n",
    "print(\"Best Parameter :\",randomized_rfc.best_params_)\n",
    "y_pred_rfc = randomized_rfc.predict(X_test)\n",
    "print(\"Confusion Matrix :\\n\", confusion_matrix(y_test, y_pred_rfc))\n",
    "print(\"Classification Report :\\n\",classification_report(y_test, y_pred_rfc, labels=[0, 1]))\n",
    "\n",
    "stop = timeit.default_timer() # catat waktu selesai\n",
    "lama_eksekusi = stop - start # lama eksekusi dalam satuan detik\n",
    "print(\"Lama eksekusi: \",lama_eksekusi,\"detik\") "
   ]
  },
  {
   "cell_type": "code",
   "execution_count": null,
   "metadata": {
    "colab": {
     "base_uri": "https://localhost:8080/"
    },
    "id": "vPCpsZIuG0Gf",
    "outputId": "df10ffd3-4e65-4e65-fffe-4529a268210d"
   },
   "outputs": [
    {
     "name": "stdout",
     "output_type": "stream",
     "text": [
      "Test Set Score Accuracy : 0.8497917736322665\n",
      "Test Set Score f1 score: 0.8364772917946908\n"
     ]
    }
   ],
   "source": [
    "print(\"Test Set Score Accuracy :\",accuracy_score(y_test, y_pred_rfc))\n",
    "print(\"Test Set Score f1 score:\",f1_score(y_test, y_pred_rfc, average=\"weighted\"))"
   ]
  }
 ],
 "metadata": {
  "colab": {
   "name": "1301181066_1301184014_GhinaKhoerunnisa_DelvanitSriWahyuni.ipynb",
   "provenance": [],
   "toc_visible": true
  },
  "kernelspec": {
   "display_name": "Python 3",
   "language": "python",
   "name": "python3"
  },
  "language_info": {
   "codemirror_mode": {
    "name": "ipython",
    "version": 3
   },
   "file_extension": ".py",
   "mimetype": "text/x-python",
   "name": "python",
   "nbconvert_exporter": "python",
   "pygments_lexer": "ipython3",
   "version": "3.7.4"
  }
 },
 "nbformat": 4,
 "nbformat_minor": 1
}
